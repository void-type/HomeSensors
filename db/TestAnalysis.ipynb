{
    "metadata": {
        "kernelspec": {
            "name": "SQL",
            "display_name": "SQL",
            "language": "sql"
        },
        "language_info": {
            "name": "sql",
            "version": ""
        }
    },
    "nbformat_minor": 2,
    "nbformat": 4,
    "cells": [
        {
            "cell_type": "code",
            "source": [
                "USE [Rcl_433.Mqtt.Test]\r\n",
                "GO\r\n",
                "\r\n",
                "SELECT Max([Time]), DeviceModel, DeviceId\r\n",
                "\r\n",
                "FROM TemperatureReadings\r\n",
                "\r\n",
                "GROUP BY DeviceModel, DeviceId"
            ],
            "metadata": {
                "azdata_cell_guid": "230a0bb6-4a41-4d0f-b77e-503109a1ca44",
                "language": "sql",
                "tags": []
            },
            "outputs": [
                {
                    "output_type": "display_data",
                    "data": {
                        "text/html": "(4 rows affected)"
                    },
                    "metadata": {}
                },
                {
                    "output_type": "display_data",
                    "data": {
                        "text/html": "Total execution time: 00:00:00.020"
                    },
                    "metadata": {}
                },
                {
                    "output_type": "execute_result",
                    "execution_count": 17,
                    "data": {
                        "application/vnd.dataresource+json": {
                            "schema": {
                                "fields": [
                                    {
                                        "name": "(No column name)"
                                    },
                                    {
                                        "name": "DeviceModel"
                                    },
                                    {
                                        "name": "DeviceId"
                                    }
                                ]
                            },
                            "data": [
                                {
                                    "0": "2022-07-10 17:51:28.0000000 +00:00",
                                    "1": "Acurite-986",
                                    "2": "1254"
                                },
                                {
                                    "0": "2022-07-10 17:57:23.0000000 +00:00",
                                    "1": "Acurite-986",
                                    "2": "1369"
                                },
                                {
                                    "0": "2022-07-10 17:57:51.0000000 +00:00",
                                    "1": "Ambientweather-F007TH",
                                    "2": "9"
                                },
                                {
                                    "0": "2022-07-10 17:57:28.0000000 +00:00",
                                    "1": "Ambientweather-F007TH",
                                    "2": "96"
                                }
                            ]
                        },
                        "text/html": "<table><tr><th>(No column name)</th><th>DeviceModel</th><th>DeviceId</th></tr><tr><td>2022-07-10 17:51:28.0000000 +00:00</td><td>Acurite-986</td><td>1254</td></tr><tr><td>2022-07-10 17:57:23.0000000 +00:00</td><td>Acurite-986</td><td>1369</td></tr><tr><td>2022-07-10 17:57:51.0000000 +00:00</td><td>Ambientweather-F007TH</td><td>9</td></tr><tr><td>2022-07-10 17:57:28.0000000 +00:00</td><td>Ambientweather-F007TH</td><td>96</td></tr></table>"
                    },
                    "metadata": {}
                }
            ],
            "execution_count": 17
        },
        {
            "cell_type": "code",
            "source": [
                "USE [Rcl_433.Mqtt.Test]\r\n",
                "GO\r\n",
                "\r\n",
                "SELECT Count(1) FROM TemperatureReadings"
            ],
            "metadata": {
                "azdata_cell_guid": "05c658ea-cab7-4ee9-ac0c-f1e0368a1c4b",
                "language": "sql"
            },
            "outputs": [
                {
                    "output_type": "display_data",
                    "data": {
                        "text/html": "(1 row affected)"
                    },
                    "metadata": {}
                },
                {
                    "output_type": "display_data",
                    "data": {
                        "text/html": "Total execution time: 00:00:00.006"
                    },
                    "metadata": {}
                },
                {
                    "output_type": "execute_result",
                    "execution_count": 18,
                    "data": {
                        "application/vnd.dataresource+json": {
                            "schema": {
                                "fields": [
                                    {
                                        "name": "(No column name)"
                                    }
                                ]
                            },
                            "data": [
                                {
                                    "0": "1458"
                                }
                            ]
                        },
                        "text/html": "<table><tr><th>(No column name)</th></tr><tr><td>1458</td></tr></table>"
                    },
                    "metadata": {}
                }
            ],
            "execution_count": 18
        },
        {
            "cell_type": "code",
            "source": [
                "USE [Rcl_433.Mqtt.Test]\r\n",
                "GO\r\n",
                "\r\n",
                "SELECT DISTINCT DeviceModel, DeviceId, DeviceChannel FROM TemperatureReadings"
            ],
            "metadata": {
                "azdata_cell_guid": "e33a259d-55d8-4507-98ba-a27f4b1608bc",
                "language": "sql",
                "tags": []
            },
            "outputs": [
                {
                    "output_type": "display_data",
                    "data": {
                        "text/html": "Commands completed successfully."
                    },
                    "metadata": {}
                },
                {
                    "output_type": "display_data",
                    "data": {
                        "text/html": "(4 rows affected)"
                    },
                    "metadata": {}
                },
                {
                    "output_type": "display_data",
                    "data": {
                        "text/html": "Total execution time: 00:00:00.047"
                    },
                    "metadata": {}
                },
                {
                    "output_type": "execute_result",
                    "metadata": {},
                    "execution_count": 2,
                    "data": {
                        "application/vnd.dataresource+json": {
                            "schema": {
                                "fields": [
                                    {
                                        "name": "DeviceModel"
                                    },
                                    {
                                        "name": "DeviceId"
                                    },
                                    {
                                        "name": "DeviceChannel"
                                    }
                                ]
                            },
                            "data": [
                                {
                                    "0": "Acurite-986",
                                    "1": "1254",
                                    "2": "2F"
                                },
                                {
                                    "0": "Acurite-986",
                                    "1": "1369",
                                    "2": "1R"
                                },
                                {
                                    "0": "Ambientweather-F007TH",
                                    "1": "9",
                                    "2": "2"
                                },
                                {
                                    "0": "Ambientweather-F007TH",
                                    "1": "96",
                                    "2": "1"
                                }
                            ]
                        },
                        "text/html": [
                            "<table>",
                            "<tr><th>DeviceModel</th><th>DeviceId</th><th>DeviceChannel</th></tr>",
                            "<tr><td>Acurite-986</td><td>1254</td><td>2F</td></tr>",
                            "<tr><td>Acurite-986</td><td>1369</td><td>1R</td></tr>",
                            "<tr><td>Ambientweather-F007TH</td><td>9</td><td>2</td></tr>",
                            "<tr><td>Ambientweather-F007TH</td><td>96</td><td>1</td></tr>",
                            "</table>"
                        ]
                    }
                }
            ],
            "execution_count": 2
        }
    ]
}